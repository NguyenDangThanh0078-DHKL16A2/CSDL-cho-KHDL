{
 "cells": [
  {
   "cell_type": "code",
   "execution_count": 11,
   "id": "be8ce198",
   "metadata": {},
   "outputs": [
    {
     "name": "stdout",
     "output_type": "stream",
     "text": [
      "Hệ số tương quan Pearson giữa A và B là: 0.741150210410707\n"
     ]
    }
   ],
   "source": [
    "import math\n",
    "import sqlite3\n",
    "\n",
    "conn = sqlite3.connect('data1.db') \n",
    "cursor = conn.cursor()\n",
    "\n",
    "# Tạo bảng với các cột A và B\n",
    "cursor.execute(\"\"\"\n",
    "    CREATE TABLE IF NOT EXISTS Bang1 (\n",
    "        A REAL,\n",
    "        B REAL\n",
    "    );\n",
    "\"\"\")\n",
    "\n",
    "# Thêm dữ liệu vào bảng\n",
    "cursor.executemany(\"\"\"\n",
    "    INSERT INTO Bang1 (A, B)\n",
    "    VALUES (?, ?);\n",
    "\"\"\", [\n",
    "    (2, 2),\n",
    "    (4, 3),\n",
    "    (3, 8),\n",
    "    (9, 7),\n",
    "    (5, 0),\n",
    "    (6, 4),\n",
    "    (7, 5)\n",
    "])\n",
    "\n",
    "conn.commit()\n",
    "\n",
    "conn.close()\n",
    "\n",
    "# Mở lại kết nối \n",
    "conn = sqlite3.connect('data1.db')\n",
    "cursor = conn.cursor()\n",
    "\n",
    "# Thực hiện truy vấn SQL để tính hệ số tương quan Pearson\n",
    "cursor.execute(\"\"\"\n",
    "    SELECT \n",
    "        COUNT(*) as n,\n",
    "        SUM(A) as sum_a,\n",
    "        SUM(B) as sum_b,\n",
    "        SUM(A*A) as sum_aa,\n",
    "        SUM(B*B) as sum_bb,\n",
    "        SUM(A*B) as sum_ab\n",
    "    FROM Bang1;\n",
    "\"\"\")\n",
    "n, sum_a, sum_b, sum_aa, sum_bb, sum_ab = cursor.fetchone()\n",
    "\n",
    "# Tính hệ số tương quan Pearson bằng Python\n",
    "numerator = n * sum_ab - sum_a * sum_b\n",
    "denominator = math.sqrt(n * sum_aa - sum_a * sum_a) * math.sqrt(n * sum_bb - sum_b * sum_b)\n",
    "correlation_coefficient = numerator / denominator if denominator != 0 else None\n",
    "\n",
    "conn.close()\n",
    "\n",
    "print(f\"Hệ số tương quan Pearson giữa A và B là: {correlation_coefficient}\")"
   ]
  },
  {
   "cell_type": "markdown",
   "id": "7ad32617",
   "metadata": {},
   "source": [
    "# 2"
   ]
  },
  {
   "cell_type": "code",
   "execution_count": 13,
   "id": "ed69308f",
   "metadata": {},
   "outputs": [
    {
     "name": "stdout",
     "output_type": "stream",
     "text": [
      "Dữ liệu dạng quan hệ:\n",
      "   Mẫu   Ngày  Điểm\n",
      "0    A  Day 1   8.0\n",
      "1    B  Day 1   9.0\n",
      "2    C  Day 1   7.0\n",
      "3    A  Day 2   7.5\n",
      "4    B  Day 2   8.5\n",
      "5    C  Day 2   7.0\n",
      "6    A  Day 3   6.0\n",
      "7    B  Day 3   7.0\n",
      "8    C  Day 3   8.0\n",
      "9    A  Day 4   7.0\n",
      "10   B  Day 4   6.0\n",
      "11   C  Day 4   5.0\n",
      "\n",
      "Không có sự khác biệt giữa các mẫu A, B và C.\n",
      "\n",
      "Không có sự phụ thuộc giữa ngày và mẫu xe.\n"
     ]
    }
   ],
   "source": [
    "import pandas as pd\n",
    "import scipy.stats as stats\n",
    "\n",
    "# Dữ liệu mẫu cho các ngày và các mẫu xe\n",
    "data = {'Day 1': [8, 9, 7], 'Day 2': [7.5, 8.5, 7], 'Day 3': [6, 7, 8], 'Day 4': [7, 6, 5]}\n",
    "df = pd.DataFrame(data, index=['A', 'B', 'C'])\n",
    "\n",
    "# Chuyển dữ liệu sang dạng quan hệ \n",
    "relationship_data = pd.melt(df.reset_index(), id_vars=['index'], value_vars=df.columns)\n",
    "relationship_data.columns = ['Mẫu', 'Ngày', 'Điểm']\n",
    "\n",
    "print(\"Dữ liệu dạng quan hệ:\")\n",
    "print(relationship_data)\n",
    "\n",
    "# Kiểm định ANOVA để kiểm tra sự khác biệt giữa các mẫu A, B, C\n",
    "A = [8, 7.5, 6, 7]\n",
    "B = [9, 8.5, 7, 6]\n",
    "C = [7, 7, 8, 5]\n",
    "f_statistic, p_value = stats.f_oneway(A, B, C)\n",
    "\n",
    "# Kết quả kiểm định ANOVA\n",
    "if p_value < 0.05:\n",
    "    print(\"\\nCó sự khác biệt giữa các mẫu A, B và C.\")\n",
    "else:\n",
    "    print(\"\\nKhông có sự khác biệt giữa các mẫu A, B và C.\")\n",
    "\n",
    "# Tạo bảng tần suất cho kiểm định chi-square\n",
    "contingency_table = pd.crosstab(relationship_data['Mẫu'], relationship_data['Ngày'])\n",
    "\n",
    "# Kiểm định Chi-square\n",
    "chi2_stat, p_val, dof, expected = stats.chi2_contingency(contingency_table)\n",
    "\n",
    "# Kết quả kiểm định Chi-square\n",
    "if p_val < 0.05:\n",
    "    print(\"\\nCó sự phụ thuộc giữa ngày và mẫu xe.\")\n",
    "else:\n",
    "    print(\"\\nKhông có sự phụ thuộc giữa ngày và mẫu xe.\")"
   ]
  },
  {
   "cell_type": "markdown",
   "id": "5e6a70d4",
   "metadata": {},
   "source": [
    "# 3\n"
   ]
  },
  {
   "cell_type": "code",
   "execution_count": 15,
   "id": "9070a337",
   "metadata": {},
   "outputs": [
    {
     "name": "stdout",
     "output_type": "stream",
     "text": [
      "   departure_time formatted_time\n",
      "0             830          08:30\n",
      "1            1445          14:45\n",
      "2               5          00:05\n",
      "3            1230          12:30\n"
     ]
    }
   ],
   "source": [
    "import pandas as pd\n",
    "\n",
    "# Dữ liệu mẫu\n",
    "df = pd.DataFrame({\n",
    "    'departure_time': [830, 1445, 5, 1230]\n",
    "})\n",
    "\n",
    "# Hàm chuyển đổi\n",
    "def convert_to_time(val):\n",
    "    val = f\"{val:04}\"  # Đảm bảo đủ 4 chữ số (ví dụ: 5 -> '0005')\n",
    "    hour = int(val[:2])\n",
    "    minute = int(val[2:])\n",
    "    return f\"{hour:02}:{minute:02}\"\n",
    "\n",
    "# Áp dụng\n",
    "df['formatted_time'] = df['departure_time'].apply(convert_to_time)\n",
    "print(df)\n"
   ]
  },
  {
   "cell_type": "markdown",
   "id": "c2209d6c",
   "metadata": {},
   "source": [
    "# 4"
   ]
  },
  {
   "cell_type": "code",
   "execution_count": 16,
   "id": "25053161",
   "metadata": {},
   "outputs": [
    {
     "name": "stdout",
     "output_type": "stream",
     "text": [
      "Median của A: 3.0\n",
      "MAD của A: 1.0\n",
      "Các giá trị ngoại lệ (A): [1.0, 5.0, 1.0, 5.0, 1.0, 5.0, 1.0, 5.0, 1.0, 5.0, 1.0, 5.0, 1.0, 5.0, 1.0, 5.0, 1.0, 5.0, 1.0, 5.0, 9.0, 5.0, 6.0, 7.0]\n"
     ]
    }
   ],
   "source": [
    "import sqlite3\n",
    "import numpy as np\n",
    "\n",
    "conn = sqlite3.connect('data1.db')\n",
    "cursor = conn.cursor()\n",
    "\n",
    "# Lấy tất cả giá trị A\n",
    "cursor.execute(\"SELECT A FROM Bang1\")\n",
    "A_values = [row[0] for row in cursor.fetchall()]\n",
    "\n",
    "# Tính median và MAD\n",
    "median_A = np.median(A_values)\n",
    "mad_A = np.median([abs(a - median_A) for a in A_values])\n",
    "\n",
    "x = 1.5  # Số độ lệch chuẩn để xác định ngoại lệ\n",
    "\n",
    "# Tìm các ngoại lệ\n",
    "outliers = [a for a in A_values if abs(a - median_A) > x * mad_A]\n",
    "\n",
    "print(f\"Median của A: {median_A}\")\n",
    "print(f\"MAD của A: {mad_A}\")\n",
    "print(f\"Các giá trị ngoại lệ (A): {outliers}\")\n",
    "\n",
    "conn.close()"
   ]
  },
  {
   "cell_type": "markdown",
   "id": "3c613a06",
   "metadata": {},
   "source": [
    "# 5"
   ]
  },
  {
   "cell_type": "code",
   "execution_count": 20,
   "id": "1ba36a23",
   "metadata": {},
   "outputs": [],
   "source": [
    "import sqlite3\n",
    "\n",
    "conn = sqlite3.connect('data5.db') \n",
    "cursor = conn.cursor()\n",
    "\n",
    "# Giả sử có một bảng Patient với cột last_name, weight, và height\n",
    "cursor.execute(\"\"\"\n",
    "    CREATE TABLE IF NOT EXISTS Patient (\n",
    "        id INTEGER PRIMARY KEY,\n",
    "        last_name TEXT,\n",
    "        weight REAL,\n",
    "        height REAL\n",
    "    )\n",
    "\"\"\")\n",
    "\n",
    "cursor.executemany(\"\"\"\n",
    "    INSERT INTO Patient (last_name, weight, height)\n",
    "    VALUES (?, ?, ?)\n",
    "\"\"\", [\n",
    "    ('Smith', 70, 170),\n",
    "    ('Johnson', 70, 175),\n",
    "    ('Smith', 70, 165),\n",
    "    ('Johnson', 80, 180),\n",
    "    ('Smith', 72, 168)\n",
    "])\n",
    "\n",
    "conn.commit()"
   ]
  },
  {
   "cell_type": "code",
   "execution_count": 21,
   "id": "45f7af5e",
   "metadata": {},
   "outputs": [
    {
     "name": "stdout",
     "output_type": "stream",
     "text": [
      "(1, Smith, 70.0) vs (2, Johnson, 70.0): Boolean distance = 1\n",
      "(1, Smith, 70.0) vs (3, Smith, 70.0): Boolean distance = 0\n",
      "(1, Smith, 70.0) vs (4, Johnson, 80.0): Boolean distance = 1\n",
      "(1, Smith, 70.0) vs (5, Smith, 72.0): Boolean distance = 1\n",
      "(1, Smith, 70.0) vs (6, Smith, 70.0): Boolean distance = 0\n",
      "(1, Smith, 70.0) vs (7, Johnson, 70.0): Boolean distance = 1\n",
      "(1, Smith, 70.0) vs (8, Smith, 70.0): Boolean distance = 0\n",
      "(1, Smith, 70.0) vs (9, Johnson, 80.0): Boolean distance = 1\n",
      "(1, Smith, 70.0) vs (10, Smith, 72.0): Boolean distance = 1\n",
      "(2, Johnson, 70.0) vs (3, Smith, 70.0): Boolean distance = 1\n",
      "(2, Johnson, 70.0) vs (4, Johnson, 80.0): Boolean distance = 1\n",
      "(2, Johnson, 70.0) vs (5, Smith, 72.0): Boolean distance = 1\n",
      "(2, Johnson, 70.0) vs (6, Smith, 70.0): Boolean distance = 1\n",
      "(2, Johnson, 70.0) vs (7, Johnson, 70.0): Boolean distance = 0\n",
      "(2, Johnson, 70.0) vs (8, Smith, 70.0): Boolean distance = 1\n",
      "(2, Johnson, 70.0) vs (9, Johnson, 80.0): Boolean distance = 1\n",
      "(2, Johnson, 70.0) vs (10, Smith, 72.0): Boolean distance = 1\n",
      "(3, Smith, 70.0) vs (4, Johnson, 80.0): Boolean distance = 1\n",
      "(3, Smith, 70.0) vs (5, Smith, 72.0): Boolean distance = 1\n",
      "(3, Smith, 70.0) vs (6, Smith, 70.0): Boolean distance = 0\n",
      "(3, Smith, 70.0) vs (7, Johnson, 70.0): Boolean distance = 1\n",
      "(3, Smith, 70.0) vs (8, Smith, 70.0): Boolean distance = 0\n",
      "(3, Smith, 70.0) vs (9, Johnson, 80.0): Boolean distance = 1\n",
      "(3, Smith, 70.0) vs (10, Smith, 72.0): Boolean distance = 1\n",
      "(4, Johnson, 80.0) vs (5, Smith, 72.0): Boolean distance = 1\n",
      "(4, Johnson, 80.0) vs (6, Smith, 70.0): Boolean distance = 1\n",
      "(4, Johnson, 80.0) vs (7, Johnson, 70.0): Boolean distance = 1\n",
      "(4, Johnson, 80.0) vs (8, Smith, 70.0): Boolean distance = 1\n",
      "(4, Johnson, 80.0) vs (9, Johnson, 80.0): Boolean distance = 0\n",
      "(4, Johnson, 80.0) vs (10, Smith, 72.0): Boolean distance = 1\n",
      "(5, Smith, 72.0) vs (6, Smith, 70.0): Boolean distance = 1\n",
      "(5, Smith, 72.0) vs (7, Johnson, 70.0): Boolean distance = 1\n",
      "(5, Smith, 72.0) vs (8, Smith, 70.0): Boolean distance = 1\n",
      "(5, Smith, 72.0) vs (9, Johnson, 80.0): Boolean distance = 1\n",
      "(5, Smith, 72.0) vs (10, Smith, 72.0): Boolean distance = 0\n",
      "(6, Smith, 70.0) vs (7, Johnson, 70.0): Boolean distance = 1\n",
      "(6, Smith, 70.0) vs (8, Smith, 70.0): Boolean distance = 0\n",
      "(6, Smith, 70.0) vs (9, Johnson, 80.0): Boolean distance = 1\n",
      "(6, Smith, 70.0) vs (10, Smith, 72.0): Boolean distance = 1\n",
      "(7, Johnson, 70.0) vs (8, Smith, 70.0): Boolean distance = 1\n",
      "(7, Johnson, 70.0) vs (9, Johnson, 80.0): Boolean distance = 1\n",
      "(7, Johnson, 70.0) vs (10, Smith, 72.0): Boolean distance = 1\n",
      "(8, Smith, 70.0) vs (9, Johnson, 80.0): Boolean distance = 1\n",
      "(8, Smith, 70.0) vs (10, Smith, 72.0): Boolean distance = 1\n",
      "(9, Johnson, 80.0) vs (10, Smith, 72.0): Boolean distance = 1\n"
     ]
    }
   ],
   "source": [
    "import sqlite3\n",
    "\n",
    "conn = sqlite3.connect('data5.db')\n",
    "cursor = conn.cursor()\n",
    "\n",
    "# Truy vấn khoảng cách Boolean giữa các cặp bệnh nhân\n",
    "sql = \"\"\"\n",
    "SELECT \n",
    "    p1.id AS id1, p1.last_name AS last_name1, p1.weight AS weight1,\n",
    "    p2.id AS id2, p2.last_name AS last_name2, p2.weight AS weight2,\n",
    "    CASE \n",
    "        WHEN p1.last_name = p2.last_name AND p1.weight = p2.weight THEN 0\n",
    "        ELSE 1\n",
    "    END AS boolean_distance\n",
    "FROM Patient p1, Patient p2\n",
    "WHERE p1.id < p2.id\n",
    "\"\"\"\n",
    "\n",
    "cursor.execute(sql)\n",
    "rows = cursor.fetchall()\n",
    "\n",
    "for row in rows:\n",
    "    print(f\"({row[0]}, {row[1]}, {row[2]}) vs ({row[3]}, {row[4]}, {row[5]}): Boolean distance = {row[6]}\")\n",
    "\n",
    "conn.close()"
   ]
  }
 ],
 "metadata": {
  "kernelspec": {
   "display_name": "base",
   "language": "python",
   "name": "python3"
  },
  "language_info": {
   "codemirror_mode": {
    "name": "ipython",
    "version": 3
   },
   "file_extension": ".py",
   "mimetype": "text/x-python",
   "name": "python",
   "nbconvert_exporter": "python",
   "pygments_lexer": "ipython3",
   "version": "3.12.7"
  }
 },
 "nbformat": 4,
 "nbformat_minor": 5
}
